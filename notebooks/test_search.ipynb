{
 "cells": [
  {
   "cell_type": "code",
   "execution_count": 10,
   "metadata": {},
   "outputs": [
    {
     "name": "stdout",
     "output_type": "stream",
     "text": [
      "The autoreload extension is already loaded. To reload it, use:\n",
      "  %reload_ext autoreload\n",
      "flowcasepy                0.2.1          /Users/eirik/Library/CloudStorage/OneDrive-TheNorthAlliance (20.02.2025 14:38)/Projects/flowcasepy\n",
      "Note: you may need to restart the kernel to use updated packages.\n"
     ]
    }
   ],
   "source": [
    "# auto relaod on file change in\n",
    "%load_ext autoreload\n",
    "%autoreload 2\n",
    "%pip list | grep flow"
   ]
  },
  {
   "cell_type": "code",
   "execution_count": 11,
   "metadata": {},
   "outputs": [],
   "source": [
    "import os\n",
    "\n",
    "# grab api key using environment variable .env file fomr python-dotenv\n",
    "from dotenv import load_dotenv\n",
    "\n",
    "from flowcase import Flowcase\n",
    "\n",
    "load_dotenv()\n",
    "\n",
    "\n",
    "fc = Flowcase(org=\"noaignite\", api_key=os.environ[\"FLOWCASE_API_KEY\"])\n",
    "\n",
    "# list = get_new_certification()\n"
   ]
  },
  {
   "cell_type": "code",
   "execution_count": null,
   "metadata": {},
   "outputs": [
    {
     "data": {
      "text/plain": [
       "['no', 'pl', 'dk', 'se']"
      ]
     },
     "execution_count": 12,
     "metadata": {},
     "output_type": "execute_result"
    }
   ],
   "source": [
    "contries = fc.list_countries()\n",
    "[n.code for n in contries]\n",
    "[n.code for n in fc.list_countries()]\n",
    "\n",
    "# [o.id for o in fc.list_offices_from_country(\"no\")]"
   ]
  },
  {
   "cell_type": "code",
   "execution_count": 5,
   "metadata": {},
   "outputs": [
    {
     "name": "stdout",
     "output_type": "stream",
     "text": [
      "SearchResponseV4(total=36, cvs_returned=36 stk, ['Jonathan Helgesen', 'Karina Borlaug', 'Peder Frang', 'Peter Skaar Nordby', 'Stein Gauslaa Strindhaug', 'Hary Pirajan Mahalingam', 'Paulina Zientarska', 'Robert Kolner', 'Helle Husa', 'Victor Undli', 'Inger Skjærholt', 'Anna Ringstad Lundgård', 'Selvi Olgac', 'Vebjørn Rongved Grønhaug', 'Anders Haukvik', 'Eirik Stavelin', 'Dragos-Luchian Ismana', 'Sainyam Chandra', 'Julian Refsland', 'Julian Cæsar Andersen', 'Ane Sæther', 'Marianne Olsen', 'Frøydis Jørgensen', 'Örjan Andersson', 'Anne Marte Sletto', 'Lena Østerhus', 'Jakob Køhn', 'Hanne Edfelt', 'Jessica Warr', 'Ivar Hembre', 'Halvard Sjøtveit', 'Alireza Balouch', 'Mads-Henrik Hegge-Olsen', 'Torbjørn Holtmon', 'Henrik Wilhelm Sissener', 'Silje Mognes'])\n"
     ]
    }
   ],
   "source": [
    "# search\n",
    "sr = fc.search(\"python\", size=100)\n",
    "\n",
    "print(sr)\n"
   ]
  },
  {
   "cell_type": "code",
   "execution_count": 14,
   "metadata": {},
   "outputs": [
    {
     "name": "stdout",
     "output_type": "stream",
     "text": [
      "SearchResponseV4(total=3, cvs_returned=3 stk, ['Eirik Waldal', 'Eirik Stavelin', 'Eirik Kalvø Vattøy'])\n"
     ]
    }
   ],
   "source": [
    "sr = fc.search(\"Eirik\", query_type=\"name\", offset=0, size=100)\n",
    "\n",
    "print(sr)"
   ]
  },
  {
   "cell_type": "code",
   "execution_count": 17,
   "metadata": {},
   "outputs": [],
   "source": [
    "sr = fc.search(\"Design think\", query_type=\"free_text\", offset=0, size=100)\n"
   ]
  },
  {
   "cell_type": "code",
   "execution_count": 8,
   "metadata": {},
   "outputs": [
    {
     "name": "stdout",
     "output_type": "stream",
     "text": [
      "SearchResponseV4(total=26, cvs_returned=10 stk, ['Anders Haukvik', 'Eirik Stavelin', 'Peder Frang', 'Hary Pirajan Mahalingam', 'Jonathan Helgesen', 'Peter Skaar Nordby', 'Helle Husa', 'Jakob Køhn', 'Vebjørn Rongved Grønhaug', 'Hanne Edfelt'])\n"
     ]
    }
   ],
   "source": [
    "sr = fc.search(\"Python\", query_type=\"technology_skill\")\n",
    "\n",
    "\n",
    "print(sr)"
   ]
  },
  {
   "cell_type": "code",
   "execution_count": null,
   "metadata": {},
   "outputs": [
    {
     "name": "stdout",
     "output_type": "stream",
     "text": [
      "initiating report\n",
      "pulling report status\n",
      "downloading report file to reference_report_2025-02-26.xlsx\n"
     ]
    },
    {
     "data": {
      "text/plain": [
       "'reference_report_2025-02-26.xlsx'"
      ]
     },
     "execution_count": 9,
     "metadata": {},
     "output_type": "execute_result"
    }
   ],
   "source": [
    "# is this usefull to grab as a excel file?\n",
    "\n",
    "fc.generate_reference_report()\n",
    "\n",
    "# yes, this can be usefull.\n"
   ]
  },
  {
   "cell_type": "code",
   "execution_count": null,
   "metadata": {},
   "outputs": [],
   "source": []
  },
  {
   "cell_type": "code",
   "execution_count": null,
   "metadata": {},
   "outputs": [],
   "source": []
  }
 ],
 "metadata": {
  "kernelspec": {
   "display_name": "3.11.9",
   "language": "python",
   "name": "python3"
  },
  "language_info": {
   "codemirror_mode": {
    "name": "ipython",
    "version": 3
   },
   "file_extension": ".py",
   "mimetype": "text/x-python",
   "name": "python",
   "nbconvert_exporter": "python",
   "pygments_lexer": "ipython3",
   "version": "3.11.9"
  }
 },
 "nbformat": 4,
 "nbformat_minor": 2
}
