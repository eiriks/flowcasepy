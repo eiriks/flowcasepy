{
 "cells": [
  {
   "cell_type": "code",
   "execution_count": null,
   "metadata": {},
   "outputs": [],
   "source": [
    "# auto relaod on file change in\n",
    "%load_ext autoreload\n",
    "%autoreload 2\n",
    "%pip list | grep flow"
   ]
  },
  {
   "cell_type": "code",
   "execution_count": null,
   "metadata": {},
   "outputs": [],
   "source": [
    "import os\n",
    "\n",
    "# grab api key using environment variable .env file fomr python-dotenv\n",
    "from dotenv import load_dotenv\n",
    "\n",
    "from flowcase import Flowcase\n",
    "\n",
    "load_dotenv()\n",
    "\n",
    "\n",
    "fc = Flowcase(org=\"noaignite\", api_key=os.environ[\"FLOWCASE_API_KEY\"])\n",
    "\n",
    "# list = get_new_certification()\n"
   ]
  },
  {
   "cell_type": "code",
   "execution_count": null,
   "metadata": {},
   "outputs": [],
   "source": [
    "contries = fc.list_countries()\n",
    "[n.code for n in contries]\n",
    "[n.code for n in fc.list_countries()]\n",
    "\n",
    "# [o.id for o in fc.list_offices_from_country(\"no\")]"
   ]
  },
  {
   "cell_type": "code",
   "execution_count": null,
   "metadata": {},
   "outputs": [],
   "source": [
    "# search\n",
    "sr = fc.search(\"python\", size=100)\n",
    "\n",
    "print(sr)\n"
   ]
  },
  {
   "cell_type": "code",
   "execution_count": null,
   "metadata": {},
   "outputs": [],
   "source": [
    "sr = fc.search(\"Eirik\", query_type=\"name\", offset=0, size=100)\n",
    "\n",
    "print(sr)"
   ]
  },
  {
   "cell_type": "code",
   "execution_count": null,
   "metadata": {},
   "outputs": [],
   "source": [
    "sr = fc.search(\"Design think\", query_type=\"free_text\", offset=0, size=100)\n"
   ]
  },
  {
   "cell_type": "code",
   "execution_count": null,
   "metadata": {},
   "outputs": [],
   "source": [
    "sr = fc.search(\"Python\", query_type=\"technology_skill\")\n",
    "\n",
    "\n",
    "print(sr)"
   ]
  },
  {
   "cell_type": "code",
   "execution_count": null,
   "metadata": {},
   "outputs": [],
   "source": [
    "# is this usefull to grab as a excel file?\n",
    "\n",
    "fc.generate_reference_report()\n",
    "\n",
    "# yes, this can be usefull.\n"
   ]
  },
  {
   "cell_type": "code",
   "execution_count": null,
   "metadata": {},
   "outputs": [],
   "source": []
  },
  {
   "cell_type": "code",
   "execution_count": null,
   "metadata": {},
   "outputs": [],
   "source": []
  }
 ],
 "metadata": {
  "kernelspec": {
   "display_name": "3.11.9",
   "language": "python",
   "name": "python3"
  },
  "language_info": {
   "codemirror_mode": {
    "name": "ipython",
    "version": 3
   },
   "file_extension": ".py",
   "mimetype": "text/x-python",
   "name": "python",
   "nbconvert_exporter": "python",
   "pygments_lexer": "ipython3",
   "version": "3.11.9"
  }
 },
 "nbformat": 4,
 "nbformat_minor": 2
}
